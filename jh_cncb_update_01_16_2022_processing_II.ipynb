{
 "cells": [
  {
   "cell_type": "markdown",
   "metadata": {},
   "source": [
    "### Compute variant associated IR and FR (normalization: v4 with lags) \n",
    "### Final step\n",
    "### Update: from 12/15 to 1/16/22\n",
    "\n",
    "### Import IR, PP and lagged_FR - assemble them into a single file each."
   ]
  },
  {
   "cell_type": "code",
   "execution_count": 1,
   "metadata": {},
   "outputs": [],
   "source": [
    "import pandas as pd\n",
    "import numpy as np\n",
    "import os\n",
    "from tqdm import tqdm\n",
    "import matplotlib.pyplot as plt\n",
    "import seaborn as sns\n",
    "from collections import Counter\n",
    "from datetime import datetime as dt\n",
    "from datetime import timedelta\n",
    "from scipy.signal import lfilter\n",
    "import pickle as pickle\n",
    "import sys\n",
    "import gc"
   ]
  },
  {
   "cell_type": "code",
   "execution_count": 2,
   "metadata": {},
   "outputs": [],
   "source": [
    "# load required files - lagged FR\n",
    "\n",
    "# CHANGE FILENAMES - LOAD ALL OUTPUTS YOU GENERATED\n",
    "\n",
    "with open(f\"../Input_files/lagged_FR1_011622.pkl\",'rb') as file:\n",
    "    lagged_FR1 = pickle.load(file)\n",
    "    \n",
    "with open(f\"../Input_files/lagged_FR2_011622.pkl\",'rb') as file:\n",
    "    lagged_FR2 = pickle.load(file)\n",
    "    "
   ]
  },
  {
   "cell_type": "code",
   "execution_count": 3,
   "metadata": {},
   "outputs": [
    {
     "name": "stderr",
     "output_type": "stream",
     "text": [
      "100%|██████████| 17/17 [00:07<00:00,  2.33it/s]\n"
     ]
    },
    {
     "data": {
      "text/plain": [
       "0"
      ]
     },
     "execution_count": 3,
     "metadata": {},
     "output_type": "execute_result"
    }
   ],
   "source": [
    "list_dates=list(lagged_FR1.keys())\n",
    "\n",
    "lagged_FR=lagged_FR1\n",
    "\n",
    "for date in tqdm(list_dates[700:717]):\n",
    "    \n",
    "    for var in lagged_FR[date].keys():\n",
    "        lagged_FR[date][var]=lagged_FR2[date][var]  \n",
    "\n",
    "# If you have more than 2 partial files, keep adding them to the aggregate list - for example, supposing you have two more partial files lagged_FR3 and lagged_FR4:\n",
    "\n",
    "# for date in tqdm(list_dates[717:730]):   # CHANGE DATES\n",
    "#    for var in lagged_FR[date].keys():\\n\",\n",
    "#        lagged_FR[date][var]=lagged_FR3[date][var]\n",
    "#\n",
    "# for date in tqdm(list_dates[730:745]):  # CHANGE DATES\n",
    "#     for var in lagged_FR[date].keys():\\n\",\n",
    "#         lagged_FR[date][var]=lagged_FR4[date][var]\n",
    "\n",
    "del lagged_FR1\n",
    "del lagged_FR2 # delete all partial files\n",
    "gc.collect()"
   ]
  },
  {
   "cell_type": "code",
   "execution_count": 4,
   "metadata": {},
   "outputs": [],
   "source": [
    "# IR\n",
    "\n",
    "# CHANGE FILENAMES - LOAD ALL OUTPUTS YOU GENERATED\n",
    "\n",
    "with open(f\"../Input_files/IR1_011622.pkl\",'rb') as file:\n",
    "    IR1 = pickle.load(file)\n",
    "    \n",
    "with open(f\"../Input_files/IR2_011622.pkl\",'rb') as file:\n",
    "    IR2 = pickle.load(file)\n",
    "    "
   ]
  },
  {
   "cell_type": "code",
   "execution_count": 5,
   "metadata": {},
   "outputs": [
    {
     "name": "stderr",
     "output_type": "stream",
     "text": [
      "100%|██████████| 17/17 [00:08<00:00,  1.96it/s]\n"
     ]
    },
    {
     "data": {
      "text/plain": [
       "0"
      ]
     },
     "execution_count": 5,
     "metadata": {},
     "output_type": "execute_result"
    }
   ],
   "source": [
    "IR=IR1\n",
    "\n",
    "for date in tqdm(list_dates[700:717]):\n",
    "    for var in IR[date].keys():\n",
    "        IR[date][var]=IR2[date][var]\n",
    "        \n",
    "# SAME AS ABOVE - EXTEND TO ALL PARTIAL FILES AS NEEDED\n",
    "        \n",
    "del IR1\n",
    "del IR2\n",
    "gc.collect()"
   ]
  },
  {
   "cell_type": "code",
   "execution_count": 6,
   "metadata": {},
   "outputs": [],
   "source": [
    "# PP\n",
    "\n",
    "# CHANGE FILENAMES - LOAD ALL OUTPUTS YOU GENERATED\n",
    "\n",
    "with open(f\"../Input_files/PP1_011622.pkl\",'rb') as file:\n",
    "    PP1 = pickle.load(file)\n",
    "    \n",
    "with open(f\"../Input_files/PP2_011622.pkl\",'rb') as file:\n",
    "    PP2 = pickle.load(file)\n",
    "    \n",
    "    \n",
    "del PP1\n",
    "del PP2\n",
    "\n",
    "gc.collect()"
   ]
  },
  {
   "cell_type": "code",
   "execution_count": 7,
   "metadata": {},
   "outputs": [
    {
     "name": "stderr",
     "output_type": "stream",
     "text": [
      "100%|██████████| 17/17 [00:09<00:00,  1.87it/s]\n"
     ]
    }
   ],
   "source": [
    "PP=PP1\n",
    "\n",
    "# SAME AS ABOVE - EXTEND TO ALL PARTIAL FILES AS NEEDED\n",
    "\n",
    "for date in tqdm(list_dates[700:717]):\n",
    "    for var in PP[date].keys():\n",
    "        PP[date][var]=PP2[date][var]\n",
    "        "
   ]
  },
  {
   "cell_type": "code",
   "execution_count": 9,
   "metadata": {},
   "outputs": [],
   "source": [
    "# save \n",
    "\n",
    "# CHANGE DATES\n",
    "with open(f\"../Input_files/lagged_FR_12_15_21_01_16_22.pkl\",'wb') as file:\n",
    "    pickle.dump(lagged_FR,file,protocol=pickle.HIGHEST_PROTOCOL)\n",
    "# CHANGE DATES\n",
    "with open(f\"../Input_files/IR_12_15_21_01_16_22.pkl\",'wb') as file:\n",
    "    pickle.dump(IR,file,protocol=pickle.HIGHEST_PROTOCOL)\n",
    "# CHANGE DATES\n",
    "with open(f\"../Input_files/PP_12_15_21_01_16_22.pkl\",'wb') as file:\n",
    "    pickle.dump(PP,file,protocol=pickle.HIGHEST_PROTOCOL)\n"
   ]
  },
  {
   "cell_type": "code",
   "execution_count": 2,
   "metadata": {},
   "outputs": [],
   "source": [
    "# If you just need to load the files before for the final table writing step, uncomment this cell and execute\n",
    "\n",
    "#with open(f\"../Input_files/lagged_FR_12_15_21_01_16_22.pkl\",'rb') as file:\n",
    "#    lagged_FR = pickle.load(file)\n",
    "    \n",
    "#with open(f\"../Input_files/IR_12_15_21_01_16_22.pkl\",'rb') as file:\n",
    "#    IR = pickle.load(file)\n",
    "    \n",
    "#with open(f\"../Input_files/PP_12_15_21_01_16_22.pkl\",'rb') as file:\n",
    "#    PP = pickle.load(file)\n",
    "    \n",
    "#list_dates=list(lagged_FR.keys())"
   ]
  },
  {
   "cell_type": "code",
   "execution_count": 3,
   "metadata": {},
   "outputs": [],
   "source": [
    "with open(f\"../Input_files/aggregated_mutations_window00_12_16_21_01_16_22.pkl\",'rb') as file:\n",
    "    aggregated_mutations_window = pickle.load(file)"
   ]
  },
  {
   "cell_type": "code",
   "execution_count": 4,
   "metadata": {},
   "outputs": [
    {
     "name": "stderr",
     "output_type": "stream",
     "text": [
      "100%|██████████| 33/33 [45:42<00:00, 83.10s/it]\n"
     ]
    }
   ],
   "source": [
    "# Finally, assemble and save the output tables for GPR.\n",
    "\n",
    "# CHANGE INDEXES - these will be the same as in jh_cncb_update_processing_I.py, line 58 (AFTER YOU UPDATED THE INDEXES TO CURRENT UPDATE)\n",
    "for date in tqdm(list_dates[684:717]):\n",
    "    unique_muts = pd.DataFrame(list(aggregated_mutations_window[date].keys()),columns=['descriptor'])\n",
    "    unique_muts = pd.DataFrame.join(unique_muts,pd.DataFrame(unique_muts['descriptor'].str.split(',').to_list())) #assign columns with parsed descriptor\n",
    "    unique_muts.set_index('descriptor',inplace=True)\n",
    "    unique_muts[0] = pd.to_numeric(unique_muts[0])\n",
    "    unique_muts[1] = pd.to_numeric(unique_muts[1])\n",
    "    unique_muts.sort_values([0,1],inplace=True)\n",
    "    unique_muts.columns = ['Start','End','Ref','Alt','VEP','Variant Type','Ref_AA','Alt_AA','AA']\n",
    "\n",
    "    counts = {}\n",
    "    num_countries = {}\n",
    "    infection_rate = {}\n",
    "    fatality_rate = {}\n",
    "    counted_countries = {}\n",
    "\n",
    "    for desc in unique_muts.index:\n",
    "        counts[desc] = len(aggregated_mutations_window[date][desc])\n",
    "        num_countries[desc] = len(set(aggregated_mutations_window[date][desc]))\n",
    "        ir_sum=sum(IR[date][desc])\n",
    "        pp_sum=sum(PP[date][desc])\n",
    "        if pp_sum==0:\n",
    "            infection_rate[desc] = ir_sum\n",
    "        else:\n",
    "            infection_rate[desc] = ir_sum/pp_sum #/counts[desc]\n",
    "        #infection_rate[desc] = np.mean(aggregated_mutations_window[date][desc][1]) #since accumulated over countries before denomenator of mean is wrong\n",
    "        if counts[desc]==0:\n",
    "            fatality_rate[desc] = sum(lagged_FR[date][desc])\n",
    "        else:\n",
    "            fatality_rate[desc] = sum(lagged_FR[date][desc])/counts[desc]#/counts[desc]\n",
    "        #fatality_rate[desc] = np.mean(aggregated_mutations_window[date][desc][2]) #since accumulated over countries before denomenator of mean is wrong\n",
    "        counted_countries[desc] = dict(Counter(aggregated_mutations_window[date][desc]))\n",
    "\n",
    "    unique_muts['counts'] = unique_muts.index.to_series().map(counts)\n",
    "    unique_muts['countries'] = unique_muts.index.to_series().map(num_countries)\n",
    "    unique_muts['infection_rate'] = unique_muts.index.to_series().map(infection_rate)\n",
    "    unique_muts['fatality_rate'] = unique_muts.index.to_series().map(fatality_rate)\n",
    "    unique_muts['counted_countries'] = unique_muts.index.to_series().map(counted_countries)\n",
    "    unique_muts.index = unique_muts.index.str.split(',').str[0:4].str.join('_')\n",
    "    unique_muts.sort_values('counts',ascending=False)\n",
    "    # CREATE A FOLDER FOR THE OUTPUT IN ../Output Files: cumulative_daily_AF_v4_lag_<your date>\n",
    "    # CHANGE FOLDER NAME BELOW TO THE FOLDER YOU CREATED\n",
    "    unique_muts.to_csv(f\"../Output Files/cumulative_daily_AF_v4_lag_01_16_22/{date.strftime('%m_%d_%y')}.csv\")"
   ]
  },
  {
   "cell_type": "code",
   "execution_count": null,
   "metadata": {},
   "outputs": [],
   "source": []
  }
 ],
 "metadata": {
  "kernelspec": {
   "display_name": "Python 3",
   "language": "python",
   "name": "python3"
  },
  "language_info": {
   "codemirror_mode": {
    "name": "ipython",
    "version": 3
   },
   "file_extension": ".py",
   "mimetype": "text/x-python",
   "name": "python",
   "nbconvert_exporter": "python",
   "pygments_lexer": "ipython3",
   "version": "3.8.3"
  }
 },
 "nbformat": 4,
 "nbformat_minor": 4
}
