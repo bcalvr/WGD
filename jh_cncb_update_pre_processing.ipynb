{
 "cells": [
  {
   "cell_type": "markdown",
   "metadata": {
    "tags": []
   },
   "source": [
    "## Notebook to generate mutation dataset for everyday cumulative between time points - PRE-PROCESSING\n",
    "## Covid Dataset update 01-16-22\n",
    "## Normalization: v4 with lagged FR (3/21)"
   ]
  },
  {
   "cell_type": "code",
   "execution_count": 1,
   "metadata": {},
   "outputs": [],
   "source": [
    "import pandas as pd\n",
    "import numpy as np\n",
    "import os\n",
    "from tqdm import tqdm\n",
    "import matplotlib.pyplot as plt\n",
    "import seaborn as sns\n",
    "from collections import Counter\n",
    "from datetime import datetime as dt\n",
    "from datetime import timedelta\n",
    "from scipy.signal import lfilter\n",
    "import pickle as pickle\n",
    "import sys\n",
    "import time"
   ]
  },
  {
   "cell_type": "markdown",
   "metadata": {},
   "source": [
    "### JH Time Series Data\n",
    "\n",
    "* Time series data is cumulative per column"
   ]
  },
  {
   "cell_type": "code",
   "execution_count": 12,
   "metadata": {},
   "outputs": [
    {
     "name": "stdout",
     "output_type": "stream",
     "text": [
      "---Cell run time: 0 minutes, 0 seconds---\n",
      "Cell completed: 2022-03-30 10:13:42.826178\n"
     ]
    }
   ],
   "source": [
    "cell_time = time.time()\n",
    "\n",
    "dates = pd.read_table('dates.txt',header=None,index_col=0)\n",
    "old_date = dates.loc['old_date'].values[0]\n",
    "new_date = dates.loc['new_date'].values[0]\n",
    "\n",
    "date_start = '1/23/20'\n",
    "date_up_to = new_date.replace('_','/').lstrip('0')\n",
    "jh_path = '/gpfs/group/balch/data/COVID-19/csse_covid_19_data/csse_covid_19_time_series/'\n",
    "confirmed_global = 'time_series_covid19_confirmed_global.csv'\n",
    "deaths_global = 'time_series_covid19_deaths_global.csv'\n",
    "\n",
    "confirmed = pd.read_csv(jh_path+confirmed_global)\n",
    "deaths = pd.read_csv(jh_path+deaths_global)\n",
    "\n",
    "#Need to adjust country names to match those in CNCB\n",
    "confirmed.loc[confirmed['Country/Region']=='Taiwan*','Country/Region'] = 'Taiwan'\n",
    "confirmed.loc[confirmed['Country/Region']=='US','Country/Region'] = 'United States'\n",
    "confirmed.loc[confirmed['Country/Region']=='Congo (Kinshasa)','Country/Region'] = 'Democratic Republic of the Congo'\n",
    "confirmed.loc[confirmed['Country/Region']=='Korea, South','Country/Region'] = 'South Korea'\n",
    "confirmed.loc[confirmed['Country/Region']=='Czechia','Country/Region'] = 'Czech Republic'\n",
    "confirmed.loc[confirmed['Country/Region']=='Burma','Country/Region'] = 'myanmar'\n",
    "confirmed.loc[confirmed['Country/Region']=='Congo (Brazzaville)','Country/Region'] = 'republic of the congo'\n",
    "confirmed.loc[confirmed['Country/Region']==\"Cote d'Ivoire\",'Country/Region'] = 'cotedivoire'\n",
    "\n",
    "confirmed['Country/Region'] = confirmed['Country/Region'].str.lower()\n",
    "confirmed.set_index('Country/Region',inplace=True)\n",
    "\n",
    "deaths.loc[deaths['Country/Region']=='Taiwan*','Country/Region'] = 'Taiwan'\n",
    "deaths.loc[deaths['Country/Region']=='US','Country/Region'] = 'United States'\n",
    "deaths.loc[deaths['Country/Region']=='Congo (Kinshasa)','Country/Region'] = 'Democratic Republic of the Congo'\n",
    "deaths.loc[deaths['Country/Region']=='Korea, South','Country/Region'] = 'South Korea'\n",
    "deaths.loc[deaths['Country/Region']=='Czechia','Country/Region'] = 'Czech Republic'\n",
    "deaths.loc[deaths['Country/Region']=='Burma','Country/Region'] = 'myanmar'\n",
    "deaths.loc[deaths['Country/Region']=='Congo (Brazzaville)','Country/Region'] = 'republic of the congo'\n",
    "deaths.loc[deaths['Country/Region']==\"Cote d'Ivoire\",'Country/Region'] = 'cotedivoire'\n",
    "\n",
    "deaths['Country/Region'] = deaths['Country/Region'].str.lower()\n",
    "deaths.set_index('Country/Region',inplace=True)\n",
    "\n",
    "print('---Cell run time:',round(np.floor((time.time() - cell_time)/60)),'minutes,',round((time.time() - cell_time)%60),'seconds---')\n",
    "print(\"Cell completed:\",dt.now())"
   ]
  },
  {
   "cell_type": "code",
   "execution_count": 13,
   "metadata": {},
   "outputs": [
    {
     "name": "stdout",
     "output_type": "stream",
     "text": [
      "---Cell run time: 0 minutes, 0 seconds---\n",
      "Cell completed: 2022-03-30 10:13:45.068508\n"
     ]
    }
   ],
   "source": [
    "cell_time = time.time()\n",
    "\n",
    "with open(f\"../Input_files/confirmed_{new_date}.pkl\",'wb') as file:\n",
    "    pickle.dump(confirmed,file,protocol=pickle.HIGHEST_PROTOCOL)\n",
    "    \n",
    "with open(f\"../Input_files/deaths_{new_date}.pkl\",'wb') as file:\n",
    "    pickle.dump(deaths,file,protocol=pickle.HIGHEST_PROTOCOL)\n",
    "    \n",
    "print('---Cell run time:',round(np.floor((time.time() - cell_time)/60)),'minutes,',round((time.time() - cell_time)%60),'seconds---')\n",
    "print(\"Cell completed:\",dt.now())"
   ]
  },
  {
   "cell_type": "markdown",
   "metadata": {},
   "source": [
    "### Need other data table for population number\n",
    "* doesn't matter for date as long as all the countries are covered, only getting population number"
   ]
  },
  {
   "cell_type": "code",
   "execution_count": 14,
   "metadata": {},
   "outputs": [
    {
     "name": "stdout",
     "output_type": "stream",
     "text": [
      "---Cell run time: 0 minutes, 0 seconds---\n",
      "Cell completed: 2022-03-30 10:13:47.929679\n"
     ]
    }
   ],
   "source": [
    "cell_time = time.time()\n",
    "\n",
    "# take latest daily report in update range - in JH data\n",
    "date = f\"{dt.strftime(dt.strptime(new_date,'%m_%d_%y'),'%m-%d-%Y')}.csv\"\n",
    "jh_path = '/gpfs/group/balch/data/COVID-19/csse_covid_19_data/csse_covid_19_daily_reports/'\n",
    "jh_data = pd.read_csv(jh_path+date)\n",
    "\n",
    "#drop rows that have nans for incidence rate\n",
    "jh_data = jh_data[~jh_data['Incident_Rate'].isnull()]\n",
    "jh_data = jh_data[jh_data['Incident_Rate']!=0]\n",
    "\n",
    "#matching countries of jh data to that of cncb countries\n",
    "jh_data.loc[jh_data['Country_Region']=='Taiwan*','Country_Region'] = 'Taiwan'\n",
    "jh_data.loc[jh_data['Country_Region']=='US','Country_Region'] = 'United States'\n",
    "jh_data.loc[jh_data['Country_Region']=='Korea, South','Country_Region'] = 'South Korea'\n",
    "jh_data.loc[jh_data['Country_Region']=='Czechia','Country_Region'] = 'Czech Republic'\n",
    "jh_data.loc[jh_data['Country_Region']=='Burma','Country_Region'] = 'myanmar'\n",
    "jh_data.loc[jh_data['Country_Region']=='Congo (Kinshasa)','Country_Region'] = 'Democratic Republic of the Congo'\n",
    "jh_data.loc[jh_data['Country_Region']=='Congo (Brazzaville)','Country_Region'] = 'republic of the congo'\n",
    "jh_data.loc[jh_data['Country_Region']==\"Cote d'Ivoire\",'Country_Region'] = 'cotedivoire'\n",
    "\n",
    "# Population is back calculated through the incident rate number: \n",
    "# population = confirmed_cases/incident_rate_per100k * 100,000 \n",
    "jh_data['Population'] = np.ceil(jh_data['Confirmed']/jh_data['Incident_Rate']*100000)\n",
    "jh_data['Country_Region'] = jh_data['Country_Region'].str.lower()\n",
    "\n",
    "print('---Cell run time:',round(np.floor((time.time() - cell_time)/60)),'minutes,',round((time.time() - cell_time)%60),'seconds---')\n",
    "print(\"Cell completed:\",dt.now())"
   ]
  },
  {
   "cell_type": "code",
   "execution_count": 15,
   "metadata": {},
   "outputs": [
    {
     "name": "stdout",
     "output_type": "stream",
     "text": [
      "---Cell run time: 0 minutes, 0 seconds---\n",
      "Cell completed: 2022-03-30 10:13:49.422945\n"
     ]
    }
   ],
   "source": [
    "cell_time = time.time()\n",
    "\n",
    "with open(f\"../Input_files/jh_data_{new_date}.pkl\",'wb') as file:\n",
    "    pickle.dump(jh_data,file,protocol=pickle.HIGHEST_PROTOCOL)\n",
    "\n",
    "print('---Cell run time:',round(np.floor((time.time() - cell_time)/60)),'minutes,',round((time.time() - cell_time)%60),'seconds---')\n",
    "print(\"Cell completed:\",dt.now())"
   ]
  },
  {
   "cell_type": "markdown",
   "metadata": {},
   "source": [
    "### CNCB Genome Meta Data"
   ]
  },
  {
   "cell_type": "code",
   "execution_count": 16,
   "metadata": {
    "tags": []
   },
   "outputs": [],
   "source": [
    "#column_names = ['Virus Strain Name','Accession ID','Related ID','Nuc.Completeness','Sequence Quality','Host','Location','Sample Collection Date','Submitting Lab']\n",
    "#meta=pd.read_table('../Input_files/metadata_8_23_21.tsv',usecols=column_names,index_col=1) "
   ]
  },
  {
   "cell_type": "code",
   "execution_count": 17,
   "metadata": {
    "tags": []
   },
   "outputs": [
    {
     "name": "stderr",
     "output_type": "stream",
     "text": [
      "<ipython-input-17-cf2423599828>:8: DtypeWarning: Columns (14) have mixed types. Specify dtype option on import or set low_memory=False.\n",
      "  meta=pd.read_table(f'../Input_files/metadata_{new_date}.tsv',usecols=column_names,index_col=1)\n"
     ]
    },
    {
     "name": "stdout",
     "output_type": "stream",
     "text": [
      "(4817469, 9)\n",
      "---Cell run time: 2 minutes, 9 seconds---\n",
      "Cell completed: 2022-03-30 10:16:01.623127\n"
     ]
    }
   ],
   "source": [
    "cell_time = time.time()\n",
    "\n",
    "#cncb meta, need to match countries\n",
    "# previous issues seem to be fixed (previously: 1) `Host instead of Host; 2) Submission date and Submitting lab swapped)\n",
    "column_names = ['Virus Strain Name','Accession ID','Related ID','Nuc.Completeness','Sequence Quality','Host','Location','Sample Collection Date','Submitting Lab']\n",
    "\n",
    "# UPLOAD NEW META FILE FIRST (FROM CNCB) - name it accordingly and replace the filename below with the new meta filename\n",
    "meta=pd.read_table(f'../Input_files/metadata_{new_date}.tsv',usecols=column_names,index_col=1) \n",
    "\n",
    "meta.fillna(' ',inplace=True)\n",
    "\n",
    "#Remove low quality and partial reads, pretty sure cncb does not run variant annotation for these anyways\n",
    "meta = meta[meta['Sequence Quality']!='Low']\n",
    "meta = meta[meta['Nuc.Completeness']!='Partial']\n",
    "\n",
    "#set country column and lowercase\n",
    "meta['Country'] = meta['Location'].str.split('/').str[0].str.strip()\n",
    "meta['Country'] = meta['Country'].str.lower()\n",
    "\n",
    "#Adjust country typos\n",
    "\n",
    "meta.loc[meta['Country']=='?romania','Country'] = 'romania'\n",
    "meta.loc[meta['Country']=='viet nam','Country'] = 'vietnam'\n",
    "meta.loc[meta['Country']=='czech repubic','Country'] = 'czech republic'\n",
    "meta.loc[meta['Country']=='ivory coast','Country'] = 'cotedivoire'\n",
    "\n",
    "meta.loc[meta['Country']=='blegium','Country'] = 'belgium'\n",
    "meta.loc[meta['Country']=='frnace','Country'] = 'france'\n",
    "meta.loc[meta['Country']=='morocoo','Country'] = 'morocco'\n",
    "meta.loc[meta['Country']=='mosambik','Country'] = 'mozambique'\n",
    "meta.loc[meta['Country']=='congo','Country'] = 'democratic republic of the congo'\n",
    "meta.loc[meta['Country']=='guinea bissau','Country'] = 'guinea-bissau'\n",
    "meta.loc[meta['Country']=='the republic of guinea-bissau','Country'] = 'guinea-bissau'\n",
    "\n",
    "# #Remove Crimea and Palestine\n",
    "meta = meta[meta['Country']!='crimea']\n",
    "meta = meta[meta['Country']!='palestine']\n",
    "meta = meta[meta['Country']!='saint martin']\n",
    "meta = meta[meta['Country']!='sint maarten']\n",
    "meta = meta[meta['Country']!='french guiana']\n",
    "meta = meta[meta['Country']!='guadeloupe']\n",
    "meta = meta[meta['Country']!='martinique']\n",
    "meta = meta[meta['Country']!='gibraltar']\n",
    "meta = meta[meta['Country']!='northern mariana islands']\n",
    "\n",
    "\n",
    "#Filter using date as well\n",
    "meta = meta[meta['Sample Collection Date']!='2020-00-00'] #bad dates in there\n",
    "meta.loc[:,'Sample Collection Date'] = pd.to_datetime(meta['Sample Collection Date'], yearfirst=True)\n",
    "dt_date_up_to = dt.strptime(date_up_to, \"%m/%d/%y\")\n",
    "dt_date_start = dt.strptime(date_start, \"%m/%d/%y\")\n",
    "meta = meta[(meta.loc[:,'Sample Collection Date']<dt_date_up_to) & (meta.loc[:,'Sample Collection Date']>dt_date_start)]\n",
    "\n",
    "print(meta.shape)\n",
    "\n",
    "print('---Cell run time:',round(np.floor((time.time() - cell_time)/60)),'minutes,',round((time.time() - cell_time)%60),'seconds---')\n",
    "print(\"Cell completed:\",dt.now())"
   ]
  },
  {
   "cell_type": "markdown",
   "metadata": {},
   "source": [
    "### If there is a missing country in set difference, there will be nan data in output"
   ]
  },
  {
   "cell_type": "code",
   "execution_count": 18,
   "metadata": {},
   "outputs": [
    {
     "name": "stdout",
     "output_type": "stream",
     "text": [
      "set()\n",
      "169\n",
      "---Cell run time: 0 minutes, 4 seconds---\n",
      "Cell completed: 2022-03-30 10:16:05.205986\n"
     ]
    }
   ],
   "source": [
    "cell_time = time.time()\n",
    "\n",
    "# RUN THE BELOW AND MAKE SURE YOU GET set() AS RESULT\n",
    "# If not, remove non-matching countries in meta until you get an empty set difference.  \n",
    "print(set(meta['Country'])-set(confirmed.index.str.lower()))\n",
    "print(len(set(meta['Country'])))\n",
    "\n",
    "print('---Cell run time:',round(np.floor((time.time() - cell_time)/60)),'minutes,',round((time.time() - cell_time)%60),'seconds---')\n",
    "print(\"Cell completed:\",dt.now())"
   ]
  },
  {
   "cell_type": "code",
   "execution_count": 14,
   "metadata": {
    "tags": []
   },
   "outputs": [
    {
     "data": {
      "text/plain": [
       "161"
      ]
     },
     "execution_count": 14,
     "metadata": {},
     "output_type": "execute_result"
    }
   ],
   "source": []
  },
  {
   "cell_type": "markdown",
   "metadata": {},
   "source": [
    "Save meta df "
   ]
  },
  {
   "cell_type": "code",
   "execution_count": 19,
   "metadata": {
    "tags": []
   },
   "outputs": [
    {
     "name": "stdout",
     "output_type": "stream",
     "text": [
      "---Cell run time: 0 minutes, 12 seconds---\n",
      "Cell completed: 2022-03-30 10:16:17.194559\n"
     ]
    }
   ],
   "source": [
    "cell_time = time.time()\n",
    "\n",
    "meta.to_pickle(f\"../Input_files/meta_{new_date}.pkl\",protocol=pickle.HIGHEST_PROTOCOL)\n",
    "\n",
    "print('---Cell run time:',round(np.floor((time.time() - cell_time)/60)),'minutes,',round((time.time() - cell_time)%60),'seconds---')\n",
    "print(\"Cell completed:\",dt.now())"
   ]
  },
  {
   "cell_type": "markdown",
   "metadata": {},
   "source": [
    "### Using Infections per 100k and Fatality percentage\n",
    "* Create IR/FR for all days. Cumulative up to that day."
   ]
  },
  {
   "cell_type": "code",
   "execution_count": 20,
   "metadata": {},
   "outputs": [
    {
     "name": "stdout",
     "output_type": "stream",
     "text": [
      "---Cell run time: 0 minutes, 12 seconds---\n",
      "Cell completed: 2022-03-30 10:16:32.272565\n"
     ]
    }
   ],
   "source": [
    "cell_time = time.time()\n",
    "\n",
    "jh_daily_ir = pd.DataFrame(columns=pd.to_datetime(confirmed.columns[4::])) #start from the second date because we take difference between dates\n",
    "jh_daily_fr = pd.DataFrame(columns=pd.to_datetime(confirmed.columns[4::]))\n",
    "country_daily_cts = pd.DataFrame(columns=pd.to_datetime(confirmed.columns[4::]))\n",
    "country_death_cts = pd.DataFrame(columns=pd.to_datetime(confirmed.columns[4::]))\n",
    "\n",
    "jh_daily_cases = pd.DataFrame(columns=pd.to_datetime(confirmed.columns[4::])) #start from the second date because we take difference between dates\n",
    "jh_daily_deaths = pd.DataFrame(columns=pd.to_datetime(confirmed.columns[4::]))\n",
    "\n",
    "jh_country_lvl = pd.DataFrame(columns=['cases','deaths','population'])\n",
    "\n",
    "for country in set(meta['Country'].str.lower()):\n",
    "    population = jh_data.loc[jh_data['Country_Region']==country,'Population'].sum()\n",
    "    summed_cases = confirmed.loc[confirmed.index==country,date_up_to].sum()\n",
    "    summed_deaths = deaths.loc[deaths.index==country,date_up_to].sum()\n",
    "    jh_country_lvl.loc[country] = [summed_cases,summed_deaths,population]\n",
    "    \n",
    "    cases_timeperiod = 1+confirmed.loc[confirmed.index==country].iloc[:,4::].sum().values\n",
    "    deaths_timeperiod = deaths.loc[deaths.index==country].iloc[:,4::].sum().values\n",
    "    jh_daily_ir.loc[country] = cases_timeperiod / population * 100000\n",
    "    jh_daily_fr.loc[country] = np.nan_to_num(deaths_timeperiod / cases_timeperiod) * 100\n",
    "    country_daily_cts.loc[country] = (confirmed.loc[[country]].iloc[:,4::].sum().values-confirmed.loc[[country]].iloc[:,3:-1].sum().values).clip(min=0)\n",
    "    country_death_cts.loc[country] = (deaths.loc[[country]].iloc[:,4::].sum().values-deaths.loc[[country]].iloc[:,3:-1].sum().values).clip(min=0)\n",
    "\n",
    "    jh_daily_cases.loc[country] = confirmed.loc[confirmed.index==country].iloc[:,4::].sum().values\n",
    "    jh_daily_deaths.loc[country] = np.nan_to_num(deaths_timeperiod)\n",
    "    \n",
    "jh_country_lvl.sort_index(inplace=True)\n",
    "jh_daily_ir.sort_index(inplace=True)\n",
    "jh_daily_fr.sort_index(inplace=True)\n",
    "jh_daily_cases.sort_index(inplace=True)\n",
    "jh_daily_deaths.sort_index(inplace=True)\n",
    "\n",
    "print('---Cell run time:',round(np.floor((time.time() - cell_time)/60)),'minutes,',round((time.time() - cell_time)%60),'seconds---')\n",
    "print(\"Cell completed:\",dt.now())"
   ]
  },
  {
   "cell_type": "code",
   "execution_count": 25,
   "metadata": {},
   "outputs": [
    {
     "name": "stdout",
     "output_type": "stream",
     "text": [
      "---Cell run time: 0 minutes, 1 seconds---\n",
      "Cell completed: 2022-03-30 10:16:55.170908\n"
     ]
    }
   ],
   "source": [
    "cell_time = time.time()\n",
    "\n",
    "jh_daily_ir.to_csv(f\"../Output Files/daily_counts/daily_ir_{dt.today().strftime('%m_%d_%y')}.csv\")\n",
    "jh_daily_fr.to_csv(f\"../Output Files/daily_counts/daily_fr_{dt.today().strftime('%m_%d_%y')}.csv\")\n",
    "country_daily_cts.to_csv(f\"../Output Files/daily_counts/daily_cases_{dt.today().strftime('%m_%d_%y')}.csv\")\n",
    "country_death_cts.to_csv(f\"../Output Files/daily_counts/daily_deaths_{dt.today().strftime('%m_%d_%y')}.csv\")\n",
    "\n",
    "print('---Cell run time:',round(np.floor((time.time() - cell_time)/60)),'minutes,',round((time.time() - cell_time)%60),'seconds---')\n",
    "print(\"Cell completed:\",dt.now())"
   ]
  },
  {
   "cell_type": "code",
   "execution_count": 26,
   "metadata": {},
   "outputs": [
    {
     "name": "stdout",
     "output_type": "stream",
     "text": [
      "---Cell run time: 0 minutes, 0 seconds---\n",
      "Cell completed: 2022-03-30 10:17:08.033147\n"
     ]
    }
   ],
   "source": [
    "cell_time = time.time()\n",
    "\n",
    "jh_daily_ir.to_pickle(f\"../Input_files/jh_daily_ir_{new_date}.pkl\",protocol=pickle.HIGHEST_PROTOCOL)\n",
    "\n",
    "print('---Cell run time:',round(np.floor((time.time() - cell_time)/60)),'minutes,',round((time.time() - cell_time)%60),'seconds---')\n",
    "print(\"Cell completed:\",dt.now())"
   ]
  },
  {
   "cell_type": "code",
   "execution_count": 27,
   "metadata": {},
   "outputs": [
    {
     "name": "stdout",
     "output_type": "stream",
     "text": [
      "---Cell run time: 0 minutes, 0 seconds---\n",
      "Cell completed: 2022-03-30 10:17:24.280783\n"
     ]
    }
   ],
   "source": [
    "cell_time = time.time()\n",
    "\n",
    "jh_daily_cases.to_pickle(f\"../Input_files/jh_daily_cases_{new_date}.pkl\",protocol=pickle.HIGHEST_PROTOCOL)\n",
    "\n",
    "print('---Cell run time:',round(np.floor((time.time() - cell_time)/60)),'minutes,',round((time.time() - cell_time)%60),'seconds---')\n",
    "print(\"Cell completed:\",dt.now())"
   ]
  },
  {
   "cell_type": "code",
   "execution_count": 28,
   "metadata": {},
   "outputs": [
    {
     "name": "stdout",
     "output_type": "stream",
     "text": [
      "---Cell run time: 0 minutes, 0 seconds---\n",
      "Cell completed: 2022-03-30 10:17:36.146671\n"
     ]
    }
   ],
   "source": [
    "cell_time = time.time()\n",
    "\n",
    "jh_daily_deaths.to_pickle(f\"../Input_files/jh_daily_deaths_{new_date}.pkl\",protocol=pickle.HIGHEST_PROTOCOL)\n",
    "\n",
    "print('---Cell run time:',round(np.floor((time.time() - cell_time)/60)),'minutes,',round((time.time() - cell_time)%60),'seconds---')\n",
    "print(\"Cell completed:\",dt.now())"
   ]
  },
  {
   "cell_type": "markdown",
   "metadata": {},
   "source": [
    "### Parsing gff3 files -> standalone py script\n",
    "* Aggregate_mutations0.py\n",
    "\n",
    "EDIT SCRIPT AND RENAME BEFORE RUNNING\n",
    "\n",
    "`./run_py_slurm.sh aggregated_mutations0_01_16_22.py | sbatch`\n",
    "\n",
    "### Sequence county counts: standalone py script\n",
    "* Sequence_county_counts.py\n",
    " \n",
    "EDIT SCRIPT AND RENAME BEFORE RUNNING\n",
    "\n",
    "` ./run_py_slurm.sh sequence_country_counts_01_16_22.py | sbatch`\n"
   ]
  }
 ],
 "metadata": {
  "kernelspec": {
   "display_name": "Python 3",
   "language": "python",
   "name": "python3"
  },
  "language_info": {
   "codemirror_mode": {
    "name": "ipython",
    "version": 3
   },
   "file_extension": ".py",
   "mimetype": "text/x-python",
   "name": "python",
   "nbconvert_exporter": "python",
   "pygments_lexer": "ipython3",
   "version": "3.8.3"
  }
 },
 "nbformat": 4,
 "nbformat_minor": 4
}
